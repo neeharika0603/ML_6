{
 "cells": [
  {
   "cell_type": "code",
   "execution_count": 6,
   "id": "d103c8d4",
   "metadata": {},
   "outputs": [
    {
     "data": {
      "image/png": "[encoded data removed]",
      "text/plain": [
       "<Figure size 640x480 with 1 Axes>"
      ]
     },
     "metadata": {},
     "output_type": "display_data"
    }
   ],
   "source": [
    "import matplotlib.pyplot as plt\n",
    "\n",
    "# Get the data\n",
    "x_data = [\n",
    "    0, 2.5, 4.5, 5, 1.25, 2, 4.75, 3, 4, 5, 0, 1, 3, 5, 2.75, 3.25, 4.875, 1.875,\n",
    "    2.5, 3.125, 4.25, 4.875, 1.875, 2.75, 3.5, 4.75, 3.25, 4.75, 1, 3, 5, 0, 2.375, 4,\n",
    "    1.25, 3.75, 5, 1.261363636, 2.660714286, 3.458333333, 4.25, 0.75, 2.5, 3.9375, 4.25,\n",
    "    1.75, 2.75, 4.25, 0, 2.75, 4.25, 2, 2.625, 4, 2.75, 4, 5, 0.25, 0.25, 0.375, 0.5,\n",
    "    1, 1.75, 2.75, 3.625, 4.75, 1, 2, 3.75, 4.375\n",
    "]\n",
    "y_data = [\n",
    "    0, 0, 1, 1, 0, 0, 1, 0, 1, 1, 0, 0, 0, 1, 0, 0, 1, 0, 0, 0, 1, 1, 0, 0, 0, 1, 0, 1, 0, 0,\n",
    "    1, 0, 0, 1, 0, 1, 1, 0, 0, 0, 1, 0, 0, 1, 1, 0, 0, 1, 0, 0, 1, 0, 0, 1, 0, 1, 1, 0, 0, 0,\n",
    "    0, 0, 0, 0, 1, 1, 0, 0, 1, 1\n",
    "]\n",
    "\n",
    "# Create the scatter plot\n",
    "plt.scatter(x_data, y_data, marker='o', color='blue', s=100)\n",
    "\n",
    "# Set the title and axis labels\n",
    "plt.title('Scatter Plot of Data')\n",
    "plt.xlabel('Feature 1')\n",
    "plt.ylabel('Feature 2')\n",
    "\n",
    "# Show the plot\n",
    "plt.show()"
   ]
  },
  {
   "cell_type": "code",
   "execution_count": 9,
   "id": "77c45faf",
   "metadata": {},
   "outputs": [
    {
     "name": "stdout",
     "output_type": "stream",
     "text": [
      "Mean Squared Error: 2.565399754436372\n"
     ]
    }
   ],
   "source": [
    "import numpy as np\n",
    "from sklearn.linear_model import LinearRegression\n",
    "from sklearn.metrics import mean_squared_error\n",
    " \n",
    "# Define your data\n",
    "X = np.array([0, 2.5, 4.5, 5, 1.25, 2, 4.75, 3, 4, 5, 0, 1, 3, 5, 2.75, 3.25, 4.875, 1.875, 2.5, 3.125, 4.25, 4.875, 1.875, 2.75, 3.5, 4.75, 3.25, 4.75, 1, 3, 5, 0, 2.375, 4, 1.25, 3.75, 5, 1.261363636, 2.660714286, 3.458333333, 4.25, 0.75, 2.5, 3.9375, 4.25, 1.75, 2.75, 4.25, 0, 2.75, 4.25, 2, 2.625, 4, 2.75, 4, 5, 0.25, 0.25, 0.375, 0.5, 1, 1.75, 2.75, 3.625, 4.75, 1, 2, 3.75, 4.375])\n",
    "Y = np.array([0, 2.75, 4.25, 5, 0.25, 0, 1.25, 3.75, 5, 1.261363636, 2.660714286, 3.458333333, 4.25, 0.75, 2.5, 3.9375, 4.25, 1.75, 2.75, 4.25, 0, 2.75, 4.25, 2, 2.625, 4, 2.75, 4, 5, 0.25, 0.25, 0.375, 0.5, 1, 1.75, 2.75, 3.625, 4.75, 1, 2, 3.75, 4.375])\n",
    " \n",
    "# Ensure that the length of X matches the length of Y\n",
    "X = X[:len(Y)]\n",
    " \n",
    "# Reshape the data to have the correct shape for the model\n",
    "X = X.reshape(-1, 1)\n",
    " \n",
    "# Create the linear regression model\n",
    "model = LinearRegression()\n",
    " \n",
    "# Fit the model to your data\n",
    "model.fit(X, Y)\n",
    " \n",
    "# Predict Y values based on the model\n",
    "Y_pred = model.predict(X)\n",
    " \n",
    "# Calculate the mean squared error\n",
    "mse = mean_squared_error(Y, Y_pred)\n",
    "print(\"Mean Squared Error:\", mse)"
   ]
  },
  {
   "cell_type": "code",
   "execution_count": 10,
   "id": "adfc5166",
   "metadata": {},
   "outputs": [
    {
     "name": "stdout",
     "output_type": "stream",
     "text": [
      "__abstractmethods__\n",
      "__annotations__\n",
      "__class__\n",
      "__delattr__\n",
      "__dict__\n",
      "__dir__\n",
      "__doc__\n",
      "__eq__\n",
      "__format__\n",
      "__ge__\n",
      "__getattribute__\n",
      "__getstate__\n",
      "__gt__\n",
      "__hash__\n",
      "__init__\n",
      "__init_subclass__\n",
      "__le__\n",
      "__lt__\n",
      "__module__\n",
      "__ne__\n",
      "__new__\n",
      "__reduce__\n",
      "__reduce_ex__\n",
      "__repr__\n",
      "__setattr__\n",
      "__setstate__\n",
      "__sizeof__\n",
      "__sklearn_clone__\n",
      "__str__\n",
      "__subclasshook__\n",
      "__weakref__\n",
      "_abc_impl\n",
      "_build_request_for_signature\n",
      "_check_feature_names\n",
      "_check_n_features\n",
      "_decision_function\n",
      "_estimator_type\n",
      "_get_default_requests\n",
      "_get_metadata_request\n",
      "_get_param_names\n",
      "_get_tags\n",
      "_more_tags\n",
      "_parameter_constraints\n",
      "_repr_html_\n",
      "_repr_html_inner\n",
      "_repr_mimebundle_\n",
      "_set_intercept\n",
      "_validate_data\n",
      "_validate_params\n",
      "copy_X\n",
      "fit\n",
      "fit_intercept\n",
      "get_metadata_routing\n",
      "get_params\n",
      "n_jobs\n",
      "positive\n",
      "predict\n",
      "score\n",
      "set_fit_request\n",
      "set_params\n",
      "set_score_request\n"
     ]
    }
   ],
   "source": [
    "from sklearn.linear_model import LinearRegression\n",
    "\n",
    "# Create a LinearRegression model\n",
    "model = LinearRegression()\n",
    "\n",
    "# Use dir() to list all attributes and methods\n",
    "attributes_and_methods = dir(model)\n",
    "\n",
    "# Print the attributes and methods\n",
    "for attr in attributes_and_methods:\n",
    "    print(attr)\n"
   ]
  },
  {
   "cell_type": "code",
   "execution_count": 13,
   "id": "219cc7a2",
   "metadata": {},
   "outputs": [
    {
     "name": "stdout",
     "output_type": "stream",
     "text": [
      "Test Set Accuracy: 0.8285714285714286\n"
     ]
    },
    {
     "name": "stderr",
     "output_type": "stream",
     "text": [
      "C:\\Users\\HP\\anaconda3\\Lib\\site-packages\\sklearn\\linear_model\\_logistic.py:460: ConvergenceWarning: lbfgs failed to converge (status=1):\n",
      "STOP: TOTAL NO. of ITERATIONS REACHED LIMIT.\n",
      "\n",
      "Increase the number of iterations (max_iter) or scale the data as shown in:\n",
      "    https://scikit-learn.org/stable/modules/preprocessing.html\n",
      "Please also refer to the documentation for alternative solver options:\n",
      "    https://scikit-learn.org/stable/modules/linear_model.html#logistic-regression\n",
      "  n_iter_i = _check_optimize_result(\n"
     ]
    }
   ],
   "source": [
    "import pandas as pd\n",
    "from sklearn.model_selection import train_test_split\n",
    "from sklearn.feature_extraction.text import CountVectorizer\n",
    "from sklearn.linear_model import LogisticRegression\n",
    "from sklearn.metrics import accuracy_score\n",
    "\n",
    "# Load your training dataset\n",
    "training_df = pd.read_excel('training (3).xlsx')\n",
    "\n",
    "# Load your testing dataset\n",
    "testing_df = pd.read_excel('testing (3).xlsx')\n",
    "\n",
    "# Preprocess the data: Replace NaN values with an empty string\n",
    "training_df['input'] = training_df['input'].fillna('')\n",
    "testing_df['Equation'] = testing_df['Equation'].fillna('')\n",
    "\n",
    "# Define the feature and target variables for training and testing\n",
    "X_train = training_df['input']\n",
    "y_train = training_df['Classification']\n",
    "X_test = testing_df['Equation']\n",
    "y_test = testing_df['Classification']\n",
    "\n",
    "# Create a CountVectorizer to convert text into numerical features\n",
    "vectorizer = CountVectorizer()\n",
    "X_train = vectorizer.fit_transform(X_train)\n",
    "X_test = vectorizer.transform(X_test)\n",
    "\n",
    "# Create a logistic regression model\n",
    "model = LogisticRegression()\n",
    "\n",
    "# Train the model on the training data\n",
    "model.fit(X_train, y_train)\n",
    "\n",
    "# Make predictions on the test data\n",
    "y_pred = model.predict(X_test)\n",
    "\n",
    "# Calculate the accuracy of the model\n",
    "accuracy = accuracy_score(y_test, y_pred)\n",
    "\n",
    "# Print the accuracy\n",
    "print(\"Test Set Accuracy:\", accuracy)"
   ]
  },
  {
   "cell_type": "code",
   "execution_count": 16,
   "id": "cd539335",
   "metadata": {},
   "outputs": [
    {
     "name": "stdout",
     "output_type": "stream",
     "text": [
      "Decision Tree Regressor:\n",
      "Mean Squared Error: 0.0\n",
      "R-squared Score: 1.0\n"
     ]
    }
   ],
   "source": [
    "import pandas as pd\n",
    "from sklearn.model_selection import train_test_split\n",
    "from sklearn.tree import DecisionTreeRegressor\n",
    "from sklearn.metrics import mean_squared_error, r2_score\n",
    "\n",
    "# Load your dataset, replace 'your_dataset.csv' with the actual file path or URL\n",
    "df = pd.read_excel('testing (3).xlsx')\n",
    "\n",
    "# Replace 'feature1' and 'feature2' with the names of the features you want to use for prediction\n",
    "X = df[['output']]\n",
    "y = df['Classification']\n",
    "\n",
    "# Split the dataset into training and test sets\n",
    "X_train, X_test, y_train, y_test = train_test_split(X, y, test_size=0.2, random_state=42)\n",
    "\n",
    "# Create a Decision Tree Regressor\n",
    "regressor = DecisionTreeRegressor()\n",
    "\n",
    "# Train the model on the training data\n",
    "regressor.fit(X_train, y_train)\n",
    "\n",
    "# Make predictions on the test data\n",
    "y_pred = regressor.predict(X_test)\n",
    "\n",
    "# Calculate the mean squared error and R-squared score\n",
    "mse = mean_squared_error(y_test, y_pred)\n",
    "r2 = r2_score(y_test, y_pred)\n",
    "\n",
    "print(\"Decision Tree Regressor:\")\n",
    "print(\"Mean Squared Error:\", mse)\n",
    "print(\"R-squared Score:\", r2)"
   ]
  },
  {
   "cell_type": "code",
   "execution_count": 17,
   "id": "b85634a7",
   "metadata": {},
   "outputs": [
    {
     "name": "stdout",
     "output_type": "stream",
     "text": [
      "k-NN Regressor:\n",
      "Mean Squared Error: 0.0\n",
      "R-squared Score: 1.0\n"
     ]
    }
   ],
   "source": [
    "import pandas as pd\n",
    "from sklearn.model_selection import train_test_split\n",
    "from sklearn.neighbors import KNeighborsRegressor\n",
    "from sklearn.metrics import mean_squared_error, r2_score\n",
    "\n",
    "# Load your dataset, replace 'your_dataset.csv' with the actual file path or URL\n",
    "df = pd.read_excel('testing (3).xlsx')\n",
    "\n",
    "# Replace 'feature1' and 'feature2' with the names of the features you want to use for prediction\n",
    "X = df[['output']]\n",
    "y = df['Classification']\n",
    "\n",
    "# Split the dataset into training and test sets\n",
    "X_train, X_test, y_train, y_test = train_test_split(X, y, test_size=0.2, random_state=42)\n",
    "\n",
    "# Create a k-NN Regressor with a specified number of neighbors (k)\n",
    "regressor = KNeighborsRegressor(n_neighbors=5)  # You can adjust the number of neighbors as needed\n",
    "\n",
    "# Train the model on the training data\n",
    "regressor.fit(X_train, y_train)\n",
    "\n",
    "# Make predictions on the test data\n",
    "y_pred = regressor.predict(X_test)\n",
    "\n",
    "# Calculate the mean squared error and R-squared score\n",
    "mse = mean_squared_error(y_test, y_pred)\n",
    "r2 = r2_score(y_test, y_pred)\n",
    "\n",
    "print(\"k-NN Regressor:\")\n",
    "print(\"Mean Squared Error:\", mse)\n",
    "print(\"R-squared Score:\", r2)"
   ]
  },
  {
   "cell_type": "code",
   "execution_count": null,
   "id": "de298c6d",
   "metadata": {},
   "outputs": [],
   "source": []
  }
 ],
 "metadata": {
  "kernelspec": {
   "display_name": "Python 3 (ipykernel)",
   "language": "python",
   "name": "python3"
  },
  "language_info": {
   "codemirror_mode": {
    "name": "ipython",
    "version": 3
   },
   "file_extension": ".py",
   "mimetype": "text/x-python",
   "name": "python",
   "nbconvert_exporter": "python",
   "pygments_lexer": "ipython3",
   "version": "3.11.4"
  }
 },
 "nbformat": 4,
 "nbformat_minor": 5
}
